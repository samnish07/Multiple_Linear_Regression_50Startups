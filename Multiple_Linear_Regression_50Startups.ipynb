{
 "cells": [
  {
   "cell_type": "markdown",
   "id": "3f5ec5b8",
   "metadata": {},
   "source": [
    "### Prepare a prediction model for profit of 50_startups data.Do transformations for getting better predictions of profit and make a table containing R^2 value for each prepared model.\n",
    "\n",
    "R&D Spend -- Research and devolop spend in the past few years\n",
    "\n",
    "Administration -- spend on administration in the past few years\n",
    "\n",
    "Marketing Spend -- spend on Marketing in the past few years\n",
    "\n",
    "State -- states from which data is collected\n",
    "\n",
    "Profit  -- profit of each state in the past few years"
   ]
  },
  {
   "cell_type": "code",
   "execution_count": 1,
   "id": "d204cb74",
   "metadata": {},
   "outputs": [],
   "source": [
    "import pandas as pd\n",
    "import numpy as np\n",
    "import seaborn as sns\n",
    "import matplotlib.pyplot as plt\n",
    "%matplotlib inline\n",
    "plt.style.use('ggplot')\n",
    "\n",
    "import warnings\n",
    "warnings.filterwarnings('ignore')"
   ]
  },
  {
   "cell_type": "code",
   "execution_count": 2,
   "id": "1b5805ec",
   "metadata": {},
   "outputs": [
    {
     "data": {
      "text/html": [
       "<div>\n",
       "<style scoped>\n",
       "    .dataframe tbody tr th:only-of-type {\n",
       "        vertical-align: middle;\n",
       "    }\n",
       "\n",
       "    .dataframe tbody tr th {\n",
       "        vertical-align: top;\n",
       "    }\n",
       "\n",
       "    .dataframe thead th {\n",
       "        text-align: right;\n",
       "    }\n",
       "</style>\n",
       "<table border=\"1\" class=\"dataframe\">\n",
       "  <thead>\n",
       "    <tr style=\"text-align: right;\">\n",
       "      <th></th>\n",
       "      <th>R&amp;D Spend</th>\n",
       "      <th>Administration</th>\n",
       "      <th>Marketing Spend</th>\n",
       "      <th>State</th>\n",
       "      <th>Profit</th>\n",
       "    </tr>\n",
       "  </thead>\n",
       "  <tbody>\n",
       "    <tr>\n",
       "      <th>0</th>\n",
       "      <td>165349.20</td>\n",
       "      <td>136897.80</td>\n",
       "      <td>471784.10</td>\n",
       "      <td>New York</td>\n",
       "      <td>192261.83</td>\n",
       "    </tr>\n",
       "    <tr>\n",
       "      <th>1</th>\n",
       "      <td>162597.70</td>\n",
       "      <td>151377.59</td>\n",
       "      <td>443898.53</td>\n",
       "      <td>California</td>\n",
       "      <td>191792.06</td>\n",
       "    </tr>\n",
       "    <tr>\n",
       "      <th>2</th>\n",
       "      <td>153441.51</td>\n",
       "      <td>101145.55</td>\n",
       "      <td>407934.54</td>\n",
       "      <td>Florida</td>\n",
       "      <td>191050.39</td>\n",
       "    </tr>\n",
       "    <tr>\n",
       "      <th>3</th>\n",
       "      <td>144372.41</td>\n",
       "      <td>118671.85</td>\n",
       "      <td>383199.62</td>\n",
       "      <td>New York</td>\n",
       "      <td>182901.99</td>\n",
       "    </tr>\n",
       "    <tr>\n",
       "      <th>4</th>\n",
       "      <td>142107.34</td>\n",
       "      <td>91391.77</td>\n",
       "      <td>366168.42</td>\n",
       "      <td>Florida</td>\n",
       "      <td>166187.94</td>\n",
       "    </tr>\n",
       "  </tbody>\n",
       "</table>\n",
       "</div>"
      ],
      "text/plain": [
       "   R&D Spend  Administration  Marketing Spend       State     Profit\n",
       "0  165349.20       136897.80        471784.10    New York  192261.83\n",
       "1  162597.70       151377.59        443898.53  California  191792.06\n",
       "2  153441.51       101145.55        407934.54     Florida  191050.39\n",
       "3  144372.41       118671.85        383199.62    New York  182901.99\n",
       "4  142107.34        91391.77        366168.42     Florida  166187.94"
      ]
     },
     "execution_count": 2,
     "metadata": {},
     "output_type": "execute_result"
    }
   ],
   "source": [
    "df = pd.read_csv('50_Startups.csv')\n",
    "df.head()"
   ]
  },
  {
   "cell_type": "code",
   "execution_count": 54,
   "id": "80f48a7f",
   "metadata": {},
   "outputs": [],
   "source": [
    "df.columns = df.columns.str.strip()"
   ]
  },
  {
   "cell_type": "code",
   "execution_count": 3,
   "id": "b4b98bd2",
   "metadata": {
    "scrolled": true
   },
   "outputs": [
    {
     "data": {
      "text/plain": [
       "50"
      ]
     },
     "execution_count": 3,
     "metadata": {},
     "output_type": "execute_result"
    }
   ],
   "source": [
    "len(df)"
   ]
  },
  {
   "cell_type": "code",
   "execution_count": 4,
   "id": "76b3ff0d",
   "metadata": {},
   "outputs": [
    {
     "data": {
      "text/plain": [
       "(50, 5)"
      ]
     },
     "execution_count": 4,
     "metadata": {},
     "output_type": "execute_result"
    }
   ],
   "source": [
    "df.shape"
   ]
  },
  {
   "cell_type": "code",
   "execution_count": 5,
   "id": "532f84e7",
   "metadata": {},
   "outputs": [
    {
     "name": "stdout",
     "output_type": "stream",
     "text": [
      "<class 'pandas.core.frame.DataFrame'>\n",
      "RangeIndex: 50 entries, 0 to 49\n",
      "Data columns (total 5 columns):\n",
      " #   Column           Non-Null Count  Dtype  \n",
      "---  ------           --------------  -----  \n",
      " 0   R&D Spend        50 non-null     float64\n",
      " 1   Administration   50 non-null     float64\n",
      " 2   Marketing Spend  50 non-null     float64\n",
      " 3   State            50 non-null     object \n",
      " 4   Profit           50 non-null     float64\n",
      "dtypes: float64(4), object(1)\n",
      "memory usage: 2.1+ KB\n"
     ]
    }
   ],
   "source": [
    "df.info()"
   ]
  },
  {
   "cell_type": "code",
   "execution_count": 6,
   "id": "8c6e5780",
   "metadata": {},
   "outputs": [
    {
     "data": {
      "text/plain": [
       "R&D Spend          float64\n",
       "Administration     float64\n",
       "Marketing Spend    float64\n",
       "State               object\n",
       "Profit             float64\n",
       "dtype: object"
      ]
     },
     "execution_count": 6,
     "metadata": {},
     "output_type": "execute_result"
    }
   ],
   "source": [
    "df.dtypes"
   ]
  },
  {
   "cell_type": "code",
   "execution_count": 56,
   "id": "5f84f8e1",
   "metadata": {},
   "outputs": [],
   "source": [
    "dict = {'R&D Spend' : 'rd_spend',\n",
    "        'Administration' : 'administration',\n",
    "        'Marketing Spend' : 'marketing_spend',\n",
    "        'State' : 'state',\n",
    "        'Profit' : 'profit',\n",
    "        }"
   ]
  },
  {
   "cell_type": "code",
   "execution_count": 57,
   "id": "9df05079",
   "metadata": {},
   "outputs": [],
   "source": [
    "df.rename(columns=dict,inplace=True)"
   ]
  },
  {
   "cell_type": "code",
   "execution_count": 58,
   "id": "295df319",
   "metadata": {
    "scrolled": true
   },
   "outputs": [
    {
     "data": {
      "text/plain": [
       "Index(['rd_spend', 'administration', 'marketing_spend', 'state', 'profit'], dtype='object')"
      ]
     },
     "execution_count": 58,
     "metadata": {},
     "output_type": "execute_result"
    }
   ],
   "source": [
    "df.columns"
   ]
  },
  {
   "cell_type": "code",
   "execution_count": 8,
   "id": "d871aed5",
   "metadata": {},
   "outputs": [
    {
     "data": {
      "text/plain": [
       "0"
      ]
     },
     "execution_count": 8,
     "metadata": {},
     "output_type": "execute_result"
    }
   ],
   "source": [
    "df.isnull().sum().sum()"
   ]
  },
  {
   "cell_type": "code",
   "execution_count": 9,
   "id": "be86466f",
   "metadata": {},
   "outputs": [
    {
     "data": {
      "text/plain": [
       "0"
      ]
     },
     "execution_count": 9,
     "metadata": {},
     "output_type": "execute_result"
    }
   ],
   "source": [
    "df.duplicated().sum()"
   ]
  },
  {
   "cell_type": "code",
   "execution_count": 59,
   "id": "f2e4b76d",
   "metadata": {},
   "outputs": [
    {
     "data": {
      "text/html": [
       "<div>\n",
       "<style scoped>\n",
       "    .dataframe tbody tr th:only-of-type {\n",
       "        vertical-align: middle;\n",
       "    }\n",
       "\n",
       "    .dataframe tbody tr th {\n",
       "        vertical-align: top;\n",
       "    }\n",
       "\n",
       "    .dataframe thead th {\n",
       "        text-align: right;\n",
       "    }\n",
       "</style>\n",
       "<table border=\"1\" class=\"dataframe\">\n",
       "  <thead>\n",
       "    <tr style=\"text-align: right;\">\n",
       "      <th></th>\n",
       "      <th>rd_spend</th>\n",
       "      <th>administration</th>\n",
       "      <th>marketing_spend</th>\n",
       "      <th>profit</th>\n",
       "    </tr>\n",
       "  </thead>\n",
       "  <tbody>\n",
       "    <tr>\n",
       "      <th>count</th>\n",
       "      <td>50.000000</td>\n",
       "      <td>50.000000</td>\n",
       "      <td>50.000000</td>\n",
       "      <td>50.000000</td>\n",
       "    </tr>\n",
       "    <tr>\n",
       "      <th>mean</th>\n",
       "      <td>73721.615600</td>\n",
       "      <td>121344.639600</td>\n",
       "      <td>211025.097800</td>\n",
       "      <td>112012.639200</td>\n",
       "    </tr>\n",
       "    <tr>\n",
       "      <th>std</th>\n",
       "      <td>45902.256482</td>\n",
       "      <td>28017.802755</td>\n",
       "      <td>122290.310726</td>\n",
       "      <td>40306.180338</td>\n",
       "    </tr>\n",
       "    <tr>\n",
       "      <th>min</th>\n",
       "      <td>0.000000</td>\n",
       "      <td>51283.140000</td>\n",
       "      <td>0.000000</td>\n",
       "      <td>14681.400000</td>\n",
       "    </tr>\n",
       "    <tr>\n",
       "      <th>25%</th>\n",
       "      <td>39936.370000</td>\n",
       "      <td>103730.875000</td>\n",
       "      <td>129300.132500</td>\n",
       "      <td>90138.902500</td>\n",
       "    </tr>\n",
       "    <tr>\n",
       "      <th>50%</th>\n",
       "      <td>73051.080000</td>\n",
       "      <td>122699.795000</td>\n",
       "      <td>212716.240000</td>\n",
       "      <td>107978.190000</td>\n",
       "    </tr>\n",
       "    <tr>\n",
       "      <th>75%</th>\n",
       "      <td>101602.800000</td>\n",
       "      <td>144842.180000</td>\n",
       "      <td>299469.085000</td>\n",
       "      <td>139765.977500</td>\n",
       "    </tr>\n",
       "    <tr>\n",
       "      <th>max</th>\n",
       "      <td>165349.200000</td>\n",
       "      <td>182645.560000</td>\n",
       "      <td>471784.100000</td>\n",
       "      <td>192261.830000</td>\n",
       "    </tr>\n",
       "  </tbody>\n",
       "</table>\n",
       "</div>"
      ],
      "text/plain": [
       "            rd_spend  administration  marketing_spend         profit\n",
       "count      50.000000       50.000000        50.000000      50.000000\n",
       "mean    73721.615600   121344.639600    211025.097800  112012.639200\n",
       "std     45902.256482    28017.802755    122290.310726   40306.180338\n",
       "min         0.000000    51283.140000         0.000000   14681.400000\n",
       "25%     39936.370000   103730.875000    129300.132500   90138.902500\n",
       "50%     73051.080000   122699.795000    212716.240000  107978.190000\n",
       "75%    101602.800000   144842.180000    299469.085000  139765.977500\n",
       "max    165349.200000   182645.560000    471784.100000  192261.830000"
      ]
     },
     "execution_count": 59,
     "metadata": {},
     "output_type": "execute_result"
    }
   ],
   "source": [
    "df.describe()"
   ]
  },
  {
   "cell_type": "code",
   "execution_count": 60,
   "id": "484b0d15",
   "metadata": {},
   "outputs": [
    {
     "data": {
      "image/png": "[encoded data removed]",
      "text/plain": [
       "<Figure size 1296x864 with 4 Axes>"
      ]
     },
     "metadata": {},
     "output_type": "display_data"
    }
   ],
   "source": [
    "df.hist(edgecolor='k',figsize=(18,12))\n",
    "plt.tight_layout();"
   ]
  },
  {
   "cell_type": "code",
   "execution_count": 61,
   "id": "d903796e",
   "metadata": {},
   "outputs": [
    {
     "data": {
      "image/png": "[encoded data removed]",
      "text/plain": [
       "<Figure size 720x432 with 4 Axes>"
      ]
     },
     "metadata": {},
     "output_type": "display_data"
    }
   ],
   "source": [
    "df.plot(kind='box',subplots=True,figsize=(10,6))\n",
    "plt.tight_layout();"
   ]
  },
  {
   "cell_type": "markdown",
   "id": "9796a457",
   "metadata": {},
   "source": [
    "<font color='maroon'><b><I>There are no outliers in the predictor variables."
   ]
  },
  {
   "cell_type": "code",
   "execution_count": 14,
   "id": "c68eec0d",
   "metadata": {
    "scrolled": true
   },
   "outputs": [
    {
     "data": {
      "text/plain": [
       "New York      17\n",
       "California    17\n",
       "Florida       16\n",
       "Name: State, dtype: int64"
      ]
     },
     "execution_count": 14,
     "metadata": {},
     "output_type": "execute_result"
    }
   ],
   "source": [
    "df.State.value_counts()"
   ]
  },
  {
   "cell_type": "code",
   "execution_count": 62,
   "id": "080aa8d0",
   "metadata": {},
   "outputs": [
    {
     "data": {
      "image/png": "[encoded data removed]",
      "text/plain": [
       "<Figure size 576x432 with 1 Axes>"
      ]
     },
     "metadata": {},
     "output_type": "display_data"
    }
   ],
   "source": [
    "plt.figure(figsize=(8,6))\n",
    "ax = sns.barplot(data=df, x='state', y='rd_spend', palette='pastel', edgecolor='black',ci=False)\n",
    "plt.xticks(fontsize=20,fontweight='bold')\n",
    "plt.title('States and R&D Spend',fontsize=18,fontweight='bold');\n",
    "for i in ax.containers:\n",
    "    ax.bar_label(i,fontsize=18)"
   ]
  },
  {
   "cell_type": "code",
   "execution_count": 63,
   "id": "2d235b59",
   "metadata": {},
   "outputs": [
    {
     "data": {
      "image/png": "[encoded data removed]",
      "text/plain": [
       "<Figure size 576x432 with 1 Axes>"
      ]
     },
     "metadata": {},
     "output_type": "display_data"
    }
   ],
   "source": [
    "plt.figure(figsize=(8,6))\n",
    "ax = sns.barplot(data=df, x='state', y='administration', palette='husl', edgecolor='black',ci=False)\n",
    "plt.xticks(fontsize=20,fontweight='bold')\n",
    "plt.title('States and their Spend on Administration',fontsize=18,fontweight='bold');\n",
    "for i in ax.containers:\n",
    "    ax.bar_label(i,fontsize=18)"
   ]
  },
  {
   "cell_type": "code",
   "execution_count": 64,
   "id": "a56a947a",
   "metadata": {},
   "outputs": [
    {
     "data": {
      "image/png": "[encoded data removed]",
      "text/plain": [
       "<Figure size 576x432 with 1 Axes>"
      ]
     },
     "metadata": {},
     "output_type": "display_data"
    }
   ],
   "source": [
    "plt.figure(figsize=(8,6))\n",
    "ax = sns.barplot(data=df, x='state', y='marketing_spend', palette='rocket', edgecolor='black',ci=False)\n",
    "plt.xticks(fontsize=20,fontweight='bold')\n",
    "plt.title('States and their Marketing Spend',fontsize=18,fontweight='bold');\n",
    "for i in ax.containers:\n",
    "    ax.bar_label(i,fontsize=18)"
   ]
  },
  {
   "cell_type": "code",
   "execution_count": 65,
   "id": "c3fbf3e4",
   "metadata": {},
   "outputs": [
    {
     "data": {
      "image/png": "[encoded data removed]",
      "text/plain": [
       "<Figure size 576x432 with 1 Axes>"
      ]
     },
     "metadata": {},
     "output_type": "display_data"
    }
   ],
   "source": [
    "plt.figure(figsize=(8,6))\n",
    "ax = sns.barplot(data=df, x='state', y='profit', palette='rainbow', edgecolor='black',ci=False)\n",
    "plt.xticks(fontsize=20,fontweight='bold')\n",
    "plt.title('States and Profit',fontsize=18,fontweight='bold');\n",
    "for i in ax.containers:\n",
    "    ax.bar_label(i,fontsize=18)"
   ]
  },
  {
   "cell_type": "markdown",
   "id": "12bea146",
   "metadata": {},
   "source": [
    "<font color='maroon'><b>Assumptions of Linear Regression :\n",
    "    \n",
    "<font color='maroon'><b><I>-- Linear relationship between the dependent and the independent variables\n",
    "    \n",
    "<font color='maroon'><b><I>-- Normally distributed error component\n",
    "    \n",
    "<font color='maroon'><b><I>-- No multicollinearity\n",
    "    \n",
    "<font color='maroon'><b><I>-- No heteroskedasticity, the variance of residuals must be constant across the predicted values"
   ]
  },
  {
   "cell_type": "markdown",
   "id": "f2bcb5a8",
   "metadata": {},
   "source": [
    "## <font color='orange'><b>Check for Multicollinearity :"
   ]
  },
  {
   "cell_type": "code",
   "execution_count": 66,
   "id": "5c487763",
   "metadata": {},
   "outputs": [
    {
     "data": {
      "image/png": "[encoded data removed]",
      "text/plain": [
       "<Figure size 864x576 with 2 Axes>"
      ]
     },
     "metadata": {},
     "output_type": "display_data"
    }
   ],
   "source": [
    "correlation = df.select_dtypes(include='float64').corr()\n",
    "plt.figure(figsize=(12,8))\n",
    "sns.heatmap(data=correlation,\n",
    "           vmin=-1,vmax=1,cmap='jet',\n",
    "           annot=True);"
   ]
  },
  {
   "cell_type": "markdown",
   "id": "b08c3276",
   "metadata": {},
   "source": [
    "<font color='maroon'><b>The target variable Profit is positively correlated with RandD Spend and Marketing Spend.\n",
    "    \n",
    "<font color='maroon'><b>And the predictor variables Marketing spend and RandD Spend have positive correlation.    "
   ]
  },
  {
   "cell_type": "markdown",
   "id": "e0a23fe7",
   "metadata": {},
   "source": [
    "### <font color='red'><b><I>Finding corresponding Eigen values and Eigen vectors :"
   ]
  },
  {
   "cell_type": "code",
   "execution_count": 47,
   "id": "129f1bfb",
   "metadata": {},
   "outputs": [
    {
     "data": {
      "text/plain": [
       "array([2.6721757 , 0.02589406, 0.28254244, 1.01938779])"
      ]
     },
     "execution_count": 47,
     "metadata": {},
     "output_type": "execute_result"
    }
   ],
   "source": [
    "w, v = np.linalg.eig(correlation)\n",
    "w"
   ]
  },
  {
   "cell_type": "markdown",
   "id": "8bea4a49",
   "metadata": {},
   "source": [
    "<font color='maroon'><b><I>If one or more of the eigen values is close to zero we identify collinearity in the data. Here none of the values are that close to zero. So collinearity is absent.Yet checking the eigen vector of the value that is lowest here,0.02."
   ]
  },
  {
   "cell_type": "code",
   "execution_count": 48,
   "id": "79b0f95c",
   "metadata": {},
   "outputs": [
    {
     "data": {
      "text/plain": [
       "array([ 0.69905629, -0.02558964,  0.0275629 , -0.71407686])"
      ]
     },
     "execution_count": 48,
     "metadata": {},
     "output_type": "execute_result"
    }
   ],
   "source": [
    "v[:,1]"
   ]
  },
  {
   "cell_type": "markdown",
   "id": "06a42d4e",
   "metadata": {},
   "source": [
    "<font color='maroon'><b><I>It shows collinearity only between RandD Spend and Profit where latter is a target variable.    "
   ]
  },
  {
   "cell_type": "code",
   "execution_count": 68,
   "id": "97d2d272",
   "metadata": {},
   "outputs": [
    {
     "data": {
      "text/plain": [
       "<Figure size 1440x1440 with 0 Axes>"
      ]
     },
     "metadata": {},
     "output_type": "display_data"
    },
    {
     "data": {
      "image/png": "[encoded data removed]",
      "text/plain": [
       "<Figure size 720x720 with 14 Axes>"
      ]
     },
     "metadata": {},
     "output_type": "display_data"
    }
   ],
   "source": [
    "plt.figure(figsize=(20,20))\n",
    "sns.pairplot(df,markers=\"+\",\n",
    "                 kind='reg',\n",
    "                 diag_kind=\"kde\",\n",
    "                 plot_kws={'line_kws':{'color':'black'},\n",
    "                           'scatter_kws': {'alpha': 0.5,\n",
    "                                           'color': 'maroon'}},\n",
    "               corner=True,\n",
    "                 diag_kws= {'color': 'maroon'})\n",
    "plt.show()"
   ]
  },
  {
   "cell_type": "code",
   "execution_count": 69,
   "id": "78f61197",
   "metadata": {},
   "outputs": [
    {
     "data": {
      "image/png": "[encoded data removed]",
      "text/plain": [
       "<Figure size 720x432 with 1 Axes>"
      ]
     },
     "metadata": {},
     "output_type": "display_data"
    }
   ],
   "source": [
    "data2 = df.copy()\n",
    "\n",
    "correlations = data2.corrwith(df.profit)\n",
    "correlations = correlations[correlations!=1]\n",
    "positive_correlations = correlations[correlations >0].sort_values(ascending = False)\n",
    "negative_correlations =correlations[correlations<0].sort_values(ascending = False)\n",
    "\n",
    "correlations.plot.bar(\n",
    "        figsize = (10,6), \n",
    "        fontsize = 15, \n",
    "        color = 'maroon',\n",
    "        rot = 45, grid = True)\n",
    "plt.title('Correlation with the Price \\n',\n",
    "horizontalalignment=\"center\", fontstyle = \"normal\", \n",
    "fontsize = \"22\", fontfamily = \"sans-serif\");"
   ]
  },
  {
   "cell_type": "markdown",
   "id": "dfdb6c1b",
   "metadata": {},
   "source": [
    "## <font color='purple'><b>Get dummies for Categorical data :"
   ]
  },
  {
   "cell_type": "code",
   "execution_count": 123,
   "id": "78cda85e",
   "metadata": {},
   "outputs": [
    {
     "data": {
      "text/html": [
       "<div>\n",
       "<style scoped>\n",
       "    .dataframe tbody tr th:only-of-type {\n",
       "        vertical-align: middle;\n",
       "    }\n",
       "\n",
       "    .dataframe tbody tr th {\n",
       "        vertical-align: top;\n",
       "    }\n",
       "\n",
       "    .dataframe thead th {\n",
       "        text-align: right;\n",
       "    }\n",
       "</style>\n",
       "<table border=\"1\" class=\"dataframe\">\n",
       "  <thead>\n",
       "    <tr style=\"text-align: right;\">\n",
       "      <th></th>\n",
       "      <th>rd_spend</th>\n",
       "      <th>administration</th>\n",
       "      <th>marketing_spend</th>\n",
       "      <th>profit</th>\n",
       "      <th>state_Florida</th>\n",
       "      <th>state_New York</th>\n",
       "    </tr>\n",
       "  </thead>\n",
       "  <tbody>\n",
       "    <tr>\n",
       "      <th>0</th>\n",
       "      <td>165349.20</td>\n",
       "      <td>136897.80</td>\n",
       "      <td>471784.10</td>\n",
       "      <td>192261.83</td>\n",
       "      <td>0</td>\n",
       "      <td>1</td>\n",
       "    </tr>\n",
       "    <tr>\n",
       "      <th>1</th>\n",
       "      <td>162597.70</td>\n",
       "      <td>151377.59</td>\n",
       "      <td>443898.53</td>\n",
       "      <td>191792.06</td>\n",
       "      <td>0</td>\n",
       "      <td>0</td>\n",
       "    </tr>\n",
       "    <tr>\n",
       "      <th>2</th>\n",
       "      <td>153441.51</td>\n",
       "      <td>101145.55</td>\n",
       "      <td>407934.54</td>\n",
       "      <td>191050.39</td>\n",
       "      <td>1</td>\n",
       "      <td>0</td>\n",
       "    </tr>\n",
       "    <tr>\n",
       "      <th>3</th>\n",
       "      <td>144372.41</td>\n",
       "      <td>118671.85</td>\n",
       "      <td>383199.62</td>\n",
       "      <td>182901.99</td>\n",
       "      <td>0</td>\n",
       "      <td>1</td>\n",
       "    </tr>\n",
       "    <tr>\n",
       "      <th>4</th>\n",
       "      <td>142107.34</td>\n",
       "      <td>91391.77</td>\n",
       "      <td>366168.42</td>\n",
       "      <td>166187.94</td>\n",
       "      <td>1</td>\n",
       "      <td>0</td>\n",
       "    </tr>\n",
       "  </tbody>\n",
       "</table>\n",
       "</div>"
      ],
      "text/plain": [
       "    rd_spend  administration  marketing_spend     profit  state_Florida  \\\n",
       "0  165349.20       136897.80        471784.10  192261.83              0   \n",
       "1  162597.70       151377.59        443898.53  191792.06              0   \n",
       "2  153441.51       101145.55        407934.54  191050.39              1   \n",
       "3  144372.41       118671.85        383199.62  182901.99              0   \n",
       "4  142107.34        91391.77        366168.42  166187.94              1   \n",
       "\n",
       "   state_New York  \n",
       "0               1  \n",
       "1               0  \n",
       "2               0  \n",
       "3               1  \n",
       "4               0  "
      ]
     },
     "execution_count": 123,
     "metadata": {},
     "output_type": "execute_result"
    }
   ],
   "source": [
    "df_enc = df.copy()\n",
    "df_enc = pd.get_dummies(data=df_enc,columns=['state'],drop_first=True)\n",
    "df_enc.head()"
   ]
  },
  {
   "cell_type": "markdown",
   "id": "36327a79",
   "metadata": {},
   "source": [
    "## <font color='green'><b>Multiple Linear Regression :"
   ]
  },
  {
   "cell_type": "markdown",
   "id": "0a9514ff",
   "metadata": {},
   "source": [
    "### <font color='brown'><b><I>with Raw data :"
   ]
  },
  {
   "cell_type": "code",
   "execution_count": 128,
   "id": "082eb82f",
   "metadata": {},
   "outputs": [],
   "source": [
    "from sklearn.linear_model import LinearRegression"
   ]
  },
  {
   "cell_type": "code",
   "execution_count": 129,
   "id": "a3b06824",
   "metadata": {},
   "outputs": [],
   "source": [
    "lr = LinearRegression()"
   ]
  },
  {
   "cell_type": "code",
   "execution_count": 131,
   "id": "3ba2e7a4",
   "metadata": {},
   "outputs": [],
   "source": [
    "x = df_enc.drop(['profit'],axis=1)\n",
    "y = df_enc['profit']"
   ]
  },
  {
   "cell_type": "code",
   "execution_count": 132,
   "id": "4693c912",
   "metadata": {},
   "outputs": [
    {
     "data": {
      "text/html": [
       "<div>\n",
       "<style scoped>\n",
       "    .dataframe tbody tr th:only-of-type {\n",
       "        vertical-align: middle;\n",
       "    }\n",
       "\n",
       "    .dataframe tbody tr th {\n",
       "        vertical-align: top;\n",
       "    }\n",
       "\n",
       "    .dataframe thead th {\n",
       "        text-align: right;\n",
       "    }\n",
       "</style>\n",
       "<table border=\"1\" class=\"dataframe\">\n",
       "  <thead>\n",
       "    <tr style=\"text-align: right;\">\n",
       "      <th></th>\n",
       "      <th>rd_spend</th>\n",
       "      <th>administration</th>\n",
       "      <th>marketing_spend</th>\n",
       "      <th>state_Florida</th>\n",
       "      <th>state_New York</th>\n",
       "    </tr>\n",
       "  </thead>\n",
       "  <tbody>\n",
       "    <tr>\n",
       "      <th>0</th>\n",
       "      <td>165349.20</td>\n",
       "      <td>136897.80</td>\n",
       "      <td>471784.10</td>\n",
       "      <td>0</td>\n",
       "      <td>1</td>\n",
       "    </tr>\n",
       "    <tr>\n",
       "      <th>1</th>\n",
       "      <td>162597.70</td>\n",
       "      <td>151377.59</td>\n",
       "      <td>443898.53</td>\n",
       "      <td>0</td>\n",
       "      <td>0</td>\n",
       "    </tr>\n",
       "    <tr>\n",
       "      <th>2</th>\n",
       "      <td>153441.51</td>\n",
       "      <td>101145.55</td>\n",
       "      <td>407934.54</td>\n",
       "      <td>1</td>\n",
       "      <td>0</td>\n",
       "    </tr>\n",
       "    <tr>\n",
       "      <th>3</th>\n",
       "      <td>144372.41</td>\n",
       "      <td>118671.85</td>\n",
       "      <td>383199.62</td>\n",
       "      <td>0</td>\n",
       "      <td>1</td>\n",
       "    </tr>\n",
       "    <tr>\n",
       "      <th>4</th>\n",
       "      <td>142107.34</td>\n",
       "      <td>91391.77</td>\n",
       "      <td>366168.42</td>\n",
       "      <td>1</td>\n",
       "      <td>0</td>\n",
       "    </tr>\n",
       "  </tbody>\n",
       "</table>\n",
       "</div>"
      ],
      "text/plain": [
       "    rd_spend  administration  marketing_spend  state_Florida  state_New York\n",
       "0  165349.20       136897.80        471784.10              0               1\n",
       "1  162597.70       151377.59        443898.53              0               0\n",
       "2  153441.51       101145.55        407934.54              1               0\n",
       "3  144372.41       118671.85        383199.62              0               1\n",
       "4  142107.34        91391.77        366168.42              1               0"
      ]
     },
     "execution_count": 132,
     "metadata": {},
     "output_type": "execute_result"
    }
   ],
   "source": [
    "x.head()"
   ]
  },
  {
   "cell_type": "code",
   "execution_count": 133,
   "id": "f63602c0",
   "metadata": {},
   "outputs": [
    {
     "data": {
      "text/html": [
       "<style>#sk-container-id-1 {color: black;background-color: white;}#sk-container-id-1 pre{padding: 0;}#sk-container-id-1 div.sk-toggleable {background-color: white;}#sk-container-id-1 label.sk-toggleable__label {cursor: pointer;display: block;width: 100%;margin-bottom: 0;padding: 0.3em;box-sizing: border-box;text-align: center;}#sk-container-id-1 label.sk-toggleable__label-arrow:before {content: \"▸\";float: left;margin-right: 0.25em;color: #696969;}#sk-container-id-1 label.sk-toggleable__label-arrow:hover:before {color: black;}#sk-container-id-1 div.sk-estimator:hover label.sk-toggleable__label-arrow:before {color: black;}#sk-container-id-1 div.sk-toggleable__content {max-height: 0;max-width: 0;overflow: hidden;text-align: left;background-color: #f0f8ff;}#sk-container-id-1 div.sk-toggleable__content pre {margin: 0.2em;color: black;border-radius: 0.25em;background-color: #f0f8ff;}#sk-container-id-1 input.sk-toggleable__control:checked~div.sk-toggleable__content {max-height: 200px;max-width: 100%;overflow: auto;}#sk-container-id-1 input.sk-toggleable__control:checked~label.sk-toggleable__label-arrow:before {content: \"▾\";}#sk-container-id-1 div.sk-estimator input.sk-toggleable__control:checked~label.sk-toggleable__label {background-color: #d4ebff;}#sk-container-id-1 div.sk-label input.sk-toggleable__control:checked~label.sk-toggleable__label {background-color: #d4ebff;}#sk-container-id-1 input.sk-hidden--visually {border: 0;clip: rect(1px 1px 1px 1px);clip: rect(1px, 1px, 1px, 1px);height: 1px;margin: -1px;overflow: hidden;padding: 0;position: absolute;width: 1px;}#sk-container-id-1 div.sk-estimator {font-family: monospace;background-color: #f0f8ff;border: 1px dotted black;border-radius: 0.25em;box-sizing: border-box;margin-bottom: 0.5em;}#sk-container-id-1 div.sk-estimator:hover {background-color: #d4ebff;}#sk-container-id-1 div.sk-parallel-item::after {content: \"\";width: 100%;border-bottom: 1px solid gray;flex-grow: 1;}#sk-container-id-1 div.sk-label:hover label.sk-toggleable__label {background-color: #d4ebff;}#sk-container-id-1 div.sk-serial::before {content: \"\";position: absolute;border-left: 1px solid gray;box-sizing: border-box;top: 0;bottom: 0;left: 50%;z-index: 0;}#sk-container-id-1 div.sk-serial {display: flex;flex-direction: column;align-items: center;background-color: white;padding-right: 0.2em;padding-left: 0.2em;position: relative;}#sk-container-id-1 div.sk-item {position: relative;z-index: 1;}#sk-container-id-1 div.sk-parallel {display: flex;align-items: stretch;justify-content: center;background-color: white;position: relative;}#sk-container-id-1 div.sk-item::before, #sk-container-id-1 div.sk-parallel-item::before {content: \"\";position: absolute;border-left: 1px solid gray;box-sizing: border-box;top: 0;bottom: 0;left: 50%;z-index: -1;}#sk-container-id-1 div.sk-parallel-item {display: flex;flex-direction: column;z-index: 1;position: relative;background-color: white;}#sk-container-id-1 div.sk-parallel-item:first-child::after {align-self: flex-end;width: 50%;}#sk-container-id-1 div.sk-parallel-item:last-child::after {align-self: flex-start;width: 50%;}#sk-container-id-1 div.sk-parallel-item:only-child::after {width: 0;}#sk-container-id-1 div.sk-dashed-wrapped {border: 1px dashed gray;margin: 0 0.4em 0.5em 0.4em;box-sizing: border-box;padding-bottom: 0.4em;background-color: white;}#sk-container-id-1 div.sk-label label {font-family: monospace;font-weight: bold;display: inline-block;line-height: 1.2em;}#sk-container-id-1 div.sk-label-container {text-align: center;}#sk-container-id-1 div.sk-container {/* jupyter's `normalize.less` sets `[hidden] { display: none; }` but bootstrap.min.css set `[hidden] { display: none !important; }` so we also need the `!important` here to be able to override the default hidden behavior on the sphinx rendered scikit-learn.org. See: https://github.com/scikit-learn/scikit-learn/issues/21755 */display: inline-block !important;position: relative;}#sk-container-id-1 div.sk-text-repr-fallback {display: none;}</style><div id=\"sk-container-id-1\" class=\"sk-top-container\"><div class=\"sk-text-repr-fallback\"><pre>LinearRegression()</pre><b>In a Jupyter environment, please rerun this cell to show the HTML representation or trust the notebook. <br />On GitHub, the HTML representation is unable to render, please try loading this page with nbviewer.org.</b></div><div class=\"sk-container\" hidden><div class=\"sk-item\"><div class=\"sk-estimator sk-toggleable\"><input class=\"sk-toggleable__control sk-hidden--visually\" id=\"sk-estimator-id-1\" type=\"checkbox\" checked><label for=\"sk-estimator-id-1\" class=\"sk-toggleable__label sk-toggleable__label-arrow\">LinearRegression</label><div class=\"sk-toggleable__content\"><pre>LinearRegression()</pre></div></div></div></div></div>"
      ],
      "text/plain": [
       "LinearRegression()"
      ]
     },
     "execution_count": 133,
     "metadata": {},
     "output_type": "execute_result"
    }
   ],
   "source": [
    "lr.fit(x,y)"
   ]
  },
  {
   "cell_type": "code",
   "execution_count": 134,
   "id": "407adeda",
   "metadata": {},
   "outputs": [
    {
     "data": {
      "text/plain": [
       "50125.34383160419"
      ]
     },
     "execution_count": 134,
     "metadata": {},
     "output_type": "execute_result"
    }
   ],
   "source": [
    "lr.intercept_"
   ]
  },
  {
   "cell_type": "code",
   "execution_count": 135,
   "id": "6b4c112c",
   "metadata": {},
   "outputs": [
    {
     "data": {
      "text/plain": [
       "array([ 8.06023114e-01, -2.70043196e-02,  2.69798610e-02,  1.98788793e+02,\n",
       "       -4.18870191e+01])"
      ]
     },
     "execution_count": 135,
     "metadata": {},
     "output_type": "execute_result"
    }
   ],
   "source": [
    "lr.coef_"
   ]
  },
  {
   "cell_type": "code",
   "execution_count": 137,
   "id": "137b3179",
   "metadata": {},
   "outputs": [
    {
     "data": {
      "text/html": [
       "<div>\n",
       "<style scoped>\n",
       "    .dataframe tbody tr th:only-of-type {\n",
       "        vertical-align: middle;\n",
       "    }\n",
       "\n",
       "    .dataframe tbody tr th {\n",
       "        vertical-align: top;\n",
       "    }\n",
       "\n",
       "    .dataframe thead th {\n",
       "        text-align: right;\n",
       "    }\n",
       "</style>\n",
       "<table border=\"1\" class=\"dataframe\">\n",
       "  <thead>\n",
       "    <tr style=\"text-align: right;\">\n",
       "      <th></th>\n",
       "      <th>Coefficients</th>\n",
       "    </tr>\n",
       "  </thead>\n",
       "  <tbody>\n",
       "    <tr>\n",
       "      <th>rd_spend</th>\n",
       "      <td>0.806023</td>\n",
       "    </tr>\n",
       "    <tr>\n",
       "      <th>administration</th>\n",
       "      <td>-0.027004</td>\n",
       "    </tr>\n",
       "    <tr>\n",
       "      <th>marketing_spend</th>\n",
       "      <td>0.026980</td>\n",
       "    </tr>\n",
       "    <tr>\n",
       "      <th>state_Florida</th>\n",
       "      <td>198.788793</td>\n",
       "    </tr>\n",
       "    <tr>\n",
       "      <th>state_New York</th>\n",
       "      <td>-41.887019</td>\n",
       "    </tr>\n",
       "  </tbody>\n",
       "</table>\n",
       "</div>"
      ],
      "text/plain": [
       "                 Coefficients\n",
       "rd_spend             0.806023\n",
       "administration      -0.027004\n",
       "marketing_spend      0.026980\n",
       "state_Florida      198.788793\n",
       "state_New York     -41.887019"
      ]
     },
     "execution_count": 137,
     "metadata": {},
     "output_type": "execute_result"
    }
   ],
   "source": [
    "coeff = pd.DataFrame(lr.coef_,x.columns,columns=['Coefficients'])\n",
    "coeff"
   ]
  },
  {
   "cell_type": "markdown",
   "id": "02cb9a4e",
   "metadata": {},
   "source": [
    "<font color='maroon'><b><I>The sign of each coefficient indicates the direction of the relationship between predictor variable and the response variable.\n",
    "    \n",
    "<font color='maroon'><b><I>  -- positive sign indicates positive correlation\n",
    "    \n",
    "<font color='maroon'><b><I>  -- negative indicates negative correlation"
   ]
  },
  {
   "cell_type": "code",
   "execution_count": 138,
   "id": "9cdb31d5",
   "metadata": {},
   "outputs": [],
   "source": [
    "import statsmodels.api as sm"
   ]
  },
  {
   "cell_type": "code",
   "execution_count": 139,
   "id": "9af3e976",
   "metadata": {},
   "outputs": [],
   "source": [
    "x_sm = sm.add_constant(x)\n",
    "model_raw = sm.OLS(y,x_sm).fit()"
   ]
  },
  {
   "cell_type": "code",
   "execution_count": 140,
   "id": "2a74c07b",
   "metadata": {},
   "outputs": [
    {
     "name": "stdout",
     "output_type": "stream",
     "text": [
      "                            OLS Regression Results                            \n",
      "==============================================================================\n",
      "Dep. Variable:                 profit   R-squared:                       0.951\n",
      "Model:                            OLS   Adj. R-squared:                  0.945\n",
      "Method:                 Least Squares   F-statistic:                     169.9\n",
      "Date:                Sat, 17 Dec 2022   Prob (F-statistic):           1.34e-27\n",
      "Time:                        05:31:09   Log-Likelihood:                -525.38\n",
      "No. Observations:                  50   AIC:                             1063.\n",
      "Df Residuals:                      44   BIC:                             1074.\n",
      "Df Model:                           5                                         \n",
      "Covariance Type:            nonrobust                                         \n",
      "===================================================================================\n",
      "                      coef    std err          t      P>|t|      [0.025      0.975]\n",
      "-----------------------------------------------------------------------------------\n",
      "const            5.013e+04   6884.820      7.281      0.000    3.62e+04     6.4e+04\n",
      "rd_spend            0.8060      0.046     17.369      0.000       0.712       0.900\n",
      "administration     -0.0270      0.052     -0.517      0.608      -0.132       0.078\n",
      "marketing_spend     0.0270      0.017      1.574      0.123      -0.008       0.062\n",
      "state_Florida     198.7888   3371.007      0.059      0.953   -6595.030    6992.607\n",
      "state_New York    -41.8870   3256.039     -0.013      0.990   -6604.003    6520.229\n",
      "==============================================================================\n",
      "Omnibus:                       14.782   Durbin-Watson:                   1.283\n",
      "Prob(Omnibus):                  0.001   Jarque-Bera (JB):               21.266\n",
      "Skew:                          -0.948   Prob(JB):                     2.41e-05\n",
      "Kurtosis:                       5.572   Cond. No.                     1.45e+06\n",
      "==============================================================================\n",
      "\n",
      "Notes:\n",
      "[1] Standard Errors assume that the covariance matrix of the errors is correctly specified.\n",
      "[2] The condition number is large, 1.45e+06. This might indicate that there are\n",
      "strong multicollinearity or other numerical problems.\n"
     ]
    }
   ],
   "source": [
    "print(model_raw.summary())"
   ]
  },
  {
   "cell_type": "markdown",
   "id": "663ab1b0",
   "metadata": {},
   "source": [
    "### <font color='brown'><b><I>With Box-Cox Transformation :"
   ]
  },
  {
   "cell_type": "code",
   "execution_count": 150,
   "id": "73c68f4c",
   "metadata": {},
   "outputs": [],
   "source": [
    "df2 = df_enc.copy()\n",
    "df2 = df2.drop(['profit'],axis=1)\n",
    "#y= df2['profit']"
   ]
  },
  {
   "cell_type": "code",
   "execution_count": 151,
   "id": "3c8503ce",
   "metadata": {},
   "outputs": [
    {
     "data": {
      "text/html": [
       "<div>\n",
       "<style scoped>\n",
       "    .dataframe tbody tr th:only-of-type {\n",
       "        vertical-align: middle;\n",
       "    }\n",
       "\n",
       "    .dataframe tbody tr th {\n",
       "        vertical-align: top;\n",
       "    }\n",
       "\n",
       "    .dataframe thead th {\n",
       "        text-align: right;\n",
       "    }\n",
       "</style>\n",
       "<table border=\"1\" class=\"dataframe\">\n",
       "  <thead>\n",
       "    <tr style=\"text-align: right;\">\n",
       "      <th></th>\n",
       "      <th>rd_spend</th>\n",
       "      <th>administration</th>\n",
       "      <th>marketing_spend</th>\n",
       "      <th>state_Florida</th>\n",
       "      <th>state_New York</th>\n",
       "    </tr>\n",
       "  </thead>\n",
       "  <tbody>\n",
       "    <tr>\n",
       "      <th>0</th>\n",
       "      <td>165350.20</td>\n",
       "      <td>136898.80</td>\n",
       "      <td>471785.10</td>\n",
       "      <td>1</td>\n",
       "      <td>2</td>\n",
       "    </tr>\n",
       "    <tr>\n",
       "      <th>1</th>\n",
       "      <td>162598.70</td>\n",
       "      <td>151378.59</td>\n",
       "      <td>443899.53</td>\n",
       "      <td>1</td>\n",
       "      <td>1</td>\n",
       "    </tr>\n",
       "    <tr>\n",
       "      <th>2</th>\n",
       "      <td>153442.51</td>\n",
       "      <td>101146.55</td>\n",
       "      <td>407935.54</td>\n",
       "      <td>2</td>\n",
       "      <td>1</td>\n",
       "    </tr>\n",
       "    <tr>\n",
       "      <th>3</th>\n",
       "      <td>144373.41</td>\n",
       "      <td>118672.85</td>\n",
       "      <td>383200.62</td>\n",
       "      <td>1</td>\n",
       "      <td>2</td>\n",
       "    </tr>\n",
       "    <tr>\n",
       "      <th>4</th>\n",
       "      <td>142108.34</td>\n",
       "      <td>91392.77</td>\n",
       "      <td>366169.42</td>\n",
       "      <td>2</td>\n",
       "      <td>1</td>\n",
       "    </tr>\n",
       "  </tbody>\n",
       "</table>\n",
       "</div>"
      ],
      "text/plain": [
       "    rd_spend  administration  marketing_spend  state_Florida  state_New York\n",
       "0  165350.20       136898.80        471785.10              1               2\n",
       "1  162598.70       151378.59        443899.53              1               1\n",
       "2  153442.51       101146.55        407935.54              2               1\n",
       "3  144373.41       118672.85        383200.62              1               2\n",
       "4  142108.34        91392.77        366169.42              2               1"
      ]
     },
     "execution_count": 151,
     "metadata": {},
     "output_type": "execute_result"
    }
   ],
   "source": [
    "# since the data contains 0 values adding one to each value to get rid of 0 values\n",
    "\n",
    "x_bc = [col for col in df2 if df2[col].dtype.kind != 'O']\n",
    "x_bc\n",
    "df2[x_bc] += 1\n",
    "df2.head()"
   ]
  },
  {
   "cell_type": "code",
   "execution_count": 152,
   "id": "87e70342",
   "metadata": {},
   "outputs": [
    {
     "data": {
      "text/html": [
       "<div>\n",
       "<style scoped>\n",
       "    .dataframe tbody tr th:only-of-type {\n",
       "        vertical-align: middle;\n",
       "    }\n",
       "\n",
       "    .dataframe tbody tr th {\n",
       "        vertical-align: top;\n",
       "    }\n",
       "\n",
       "    .dataframe thead th {\n",
       "        text-align: right;\n",
       "    }\n",
       "</style>\n",
       "<table border=\"1\" class=\"dataframe\">\n",
       "  <thead>\n",
       "    <tr style=\"text-align: right;\">\n",
       "      <th></th>\n",
       "      <th>rd_spend</th>\n",
       "      <th>administration</th>\n",
       "      <th>marketing_spend</th>\n",
       "      <th>state_Florida</th>\n",
       "      <th>state_New York</th>\n",
       "    </tr>\n",
       "  </thead>\n",
       "  <tbody>\n",
       "    <tr>\n",
       "      <th>0</th>\n",
       "      <td>1.562570</td>\n",
       "      <td>0.529102</td>\n",
       "      <td>1.580363</td>\n",
       "      <td>-0.685994</td>\n",
       "      <td>1.393261</td>\n",
       "    </tr>\n",
       "    <tr>\n",
       "      <th>1</th>\n",
       "      <td>1.527028</td>\n",
       "      <td>1.131285</td>\n",
       "      <td>1.451634</td>\n",
       "      <td>-0.685994</td>\n",
       "      <td>-0.717741</td>\n",
       "    </tr>\n",
       "    <tr>\n",
       "      <th>2</th>\n",
       "      <td>1.406784</td>\n",
       "      <td>-0.790378</td>\n",
       "      <td>1.279964</td>\n",
       "      <td>1.457738</td>\n",
       "      <td>-0.717741</td>\n",
       "    </tr>\n",
       "    <tr>\n",
       "      <th>3</th>\n",
       "      <td>1.284497</td>\n",
       "      <td>-0.174305</td>\n",
       "      <td>1.157809</td>\n",
       "      <td>-0.685994</td>\n",
       "      <td>1.393261</td>\n",
       "    </tr>\n",
       "    <tr>\n",
       "      <th>4</th>\n",
       "      <td>1.253427</td>\n",
       "      <td>-1.106257</td>\n",
       "      <td>1.071572</td>\n",
       "      <td>1.457738</td>\n",
       "      <td>-0.717741</td>\n",
       "    </tr>\n",
       "  </tbody>\n",
       "</table>\n",
       "</div>"
      ],
      "text/plain": [
       "   rd_spend  administration  marketing_spend  state_Florida  state_New York\n",
       "0  1.562570        0.529102         1.580363      -0.685994        1.393261\n",
       "1  1.527028        1.131285         1.451634      -0.685994       -0.717741\n",
       "2  1.406784       -0.790378         1.279964       1.457738       -0.717741\n",
       "3  1.284497       -0.174305         1.157809      -0.685994        1.393261\n",
       "4  1.253427       -1.106257         1.071572       1.457738       -0.717741"
      ]
     },
     "execution_count": 152,
     "metadata": {},
     "output_type": "execute_result"
    }
   ],
   "source": [
    "from sklearn.compose import ColumnTransformer\n",
    "from sklearn.preprocessing import PowerTransformer \n",
    "\n",
    "#Box-Cox Transform\n",
    "column_trans = ColumnTransformer(\n",
    "    [('rd_spend', PowerTransformer(method='box-cox', standardize=True), ['rd_spend']),\n",
    "     ('administration', PowerTransformer(method='box-cox', standardize=True), ['administration']),\n",
    "     ('marketing_spend', PowerTransformer(method='box-cox', standardize=True), ['marketing_spend']),\n",
    "     ('state_Florida', PowerTransformer(method='box-cox', standardize=True), ['state_Florida']),\n",
    "     ('state_New York', PowerTransformer(method='box-cox', standardize=True), ['state_New York'])\n",
    "    ])\n",
    "\n",
    "transformed_boxcox = column_trans.fit_transform(df2)\n",
    "\n",
    "df_bc = pd.DataFrame(transformed_boxcox, columns=x.columns)\n",
    "\n",
    "df_bc.head()"
   ]
  },
  {
   "cell_type": "code",
   "execution_count": 153,
   "id": "d1620710",
   "metadata": {},
   "outputs": [],
   "source": [
    "df_bc = df_bc.join(y)\n",
    "x_bc = df_bc.drop(['profit'],axis=1)"
   ]
  },
  {
   "cell_type": "code",
   "execution_count": 156,
   "id": "e4e0e81a",
   "metadata": {},
   "outputs": [],
   "source": [
    "x_sm_bc = sm.add_constant(x_bc)\n",
    "model_bc = sm.OLS(y,x_sm_bc).fit()"
   ]
  },
  {
   "cell_type": "code",
   "execution_count": 157,
   "id": "1b8053a0",
   "metadata": {},
   "outputs": [
    {
     "name": "stdout",
     "output_type": "stream",
     "text": [
      "                            OLS Regression Results                            \n",
      "==============================================================================\n",
      "Dep. Variable:                 profit   R-squared:                       0.923\n",
      "Model:                            OLS   Adj. R-squared:                  0.914\n",
      "Method:                 Least Squares   F-statistic:                     105.6\n",
      "Date:                Sat, 17 Dec 2022   Prob (F-statistic):           2.34e-23\n",
      "Time:                        05:47:51   Log-Likelihood:                -536.53\n",
      "No. Observations:                  50   AIC:                             1085.\n",
      "Df Residuals:                      44   BIC:                             1097.\n",
      "Df Model:                           5                                         \n",
      "Covariance Type:            nonrobust                                         \n",
      "===================================================================================\n",
      "                      coef    std err          t      P>|t|      [0.025      0.975]\n",
      "-----------------------------------------------------------------------------------\n",
      "const             1.12e+05   1668.406     67.138      0.000    1.09e+05    1.15e+05\n",
      "rd_spend         3.691e+04   2535.398     14.557      0.000    3.18e+04     4.2e+04\n",
      "administration  -1385.6827   1818.532     -0.762      0.450   -5050.693    2279.328\n",
      "marketing_spend  2457.6411   2514.508      0.977      0.334   -2610.017    7525.299\n",
      "state_Florida    -323.6813   1966.854     -0.165      0.870   -4287.615    3640.252\n",
      "state_New York    663.8684   1931.274      0.344      0.733   -3228.359    4556.096\n",
      "==============================================================================\n",
      "Omnibus:                        7.285   Durbin-Watson:                   0.960\n",
      "Prob(Omnibus):                  0.026   Jarque-Bera (JB):                6.653\n",
      "Skew:                           0.881   Prob(JB):                       0.0359\n",
      "Kurtosis:                       3.299   Cond. No.                         2.81\n",
      "==============================================================================\n",
      "\n",
      "Notes:\n",
      "[1] Standard Errors assume that the covariance matrix of the errors is correctly specified.\n"
     ]
    }
   ],
   "source": [
    "print(model_bc.summary())"
   ]
  },
  {
   "cell_type": "markdown",
   "id": "7d63f801",
   "metadata": {},
   "source": [
    "### <font color='brown'><b><I>with Yeo-Jhonson Transformation :"
   ]
  },
  {
   "cell_type": "code",
   "execution_count": 158,
   "id": "daa0a0c4",
   "metadata": {},
   "outputs": [
    {
     "data": {
      "text/html": [
       "<div>\n",
       "<style scoped>\n",
       "    .dataframe tbody tr th:only-of-type {\n",
       "        vertical-align: middle;\n",
       "    }\n",
       "\n",
       "    .dataframe tbody tr th {\n",
       "        vertical-align: top;\n",
       "    }\n",
       "\n",
       "    .dataframe thead th {\n",
       "        text-align: right;\n",
       "    }\n",
       "</style>\n",
       "<table border=\"1\" class=\"dataframe\">\n",
       "  <thead>\n",
       "    <tr style=\"text-align: right;\">\n",
       "      <th></th>\n",
       "      <th>rd_spend</th>\n",
       "      <th>administration</th>\n",
       "      <th>marketing_spend</th>\n",
       "      <th>state_Florida</th>\n",
       "      <th>state_New York</th>\n",
       "    </tr>\n",
       "  </thead>\n",
       "  <tbody>\n",
       "    <tr>\n",
       "      <th>0</th>\n",
       "      <td>1.576714</td>\n",
       "      <td>0.529102</td>\n",
       "      <td>1.601610</td>\n",
       "      <td>-0.685994</td>\n",
       "      <td>1.393261</td>\n",
       "    </tr>\n",
       "    <tr>\n",
       "      <th>1</th>\n",
       "      <td>1.540538</td>\n",
       "      <td>1.131285</td>\n",
       "      <td>1.469756</td>\n",
       "      <td>-0.685994</td>\n",
       "      <td>-0.717741</td>\n",
       "    </tr>\n",
       "    <tr>\n",
       "      <th>2</th>\n",
       "      <td>1.418202</td>\n",
       "      <td>-0.790378</td>\n",
       "      <td>1.294102</td>\n",
       "      <td>1.457738</td>\n",
       "      <td>-0.717741</td>\n",
       "    </tr>\n",
       "    <tr>\n",
       "      <th>3</th>\n",
       "      <td>1.293873</td>\n",
       "      <td>-0.174305</td>\n",
       "      <td>1.169244</td>\n",
       "      <td>-0.685994</td>\n",
       "      <td>1.393261</td>\n",
       "    </tr>\n",
       "    <tr>\n",
       "      <th>4</th>\n",
       "      <td>1.262298</td>\n",
       "      <td>-1.106257</td>\n",
       "      <td>1.081167</td>\n",
       "      <td>1.457738</td>\n",
       "      <td>-0.717741</td>\n",
       "    </tr>\n",
       "  </tbody>\n",
       "</table>\n",
       "</div>"
      ],
      "text/plain": [
       "   rd_spend  administration  marketing_spend  state_Florida  state_New York\n",
       "0  1.576714        0.529102         1.601610      -0.685994        1.393261\n",
       "1  1.540538        1.131285         1.469756      -0.685994       -0.717741\n",
       "2  1.418202       -0.790378         1.294102       1.457738       -0.717741\n",
       "3  1.293873       -0.174305         1.169244      -0.685994        1.393261\n",
       "4  1.262298       -1.106257         1.081167       1.457738       -0.717741"
      ]
     },
     "execution_count": 158,
     "metadata": {},
     "output_type": "execute_result"
    }
   ],
   "source": [
    "column_trans = ColumnTransformer(\n",
    "    [('rd_spend', PowerTransformer(method='yeo-johnson', standardize=True), ['rd_spend']),\n",
    "     ('administration', PowerTransformer(method='yeo-johnson', standardize=True), ['administration']),\n",
    "     ('marketing_spend', PowerTransformer(method='yeo-johnson', standardize=True), ['marketing_spend']),\n",
    "     ('state_Florida', PowerTransformer(method='box-cox', standardize=True), ['state_Florida']),\n",
    "     ('state_New York', PowerTransformer(method='box-cox', standardize=True), ['state_New York'])\n",
    "    ])\n",
    "\n",
    "transformed_yj = column_trans.fit_transform(df2)\n",
    "\n",
    "df_yj = pd.DataFrame(transformed_yj, columns=x.columns)\n",
    "\n",
    "df_yj.head()"
   ]
  },
  {
   "cell_type": "code",
   "execution_count": 159,
   "id": "f49670f6",
   "metadata": {},
   "outputs": [],
   "source": [
    "df_yj = df_yj.join(y)\n",
    "x_yj = df_yj.drop(['profit'],axis=1)"
   ]
  },
  {
   "cell_type": "code",
   "execution_count": 160,
   "id": "d5804eed",
   "metadata": {},
   "outputs": [],
   "source": [
    "x_sm_yj = sm.add_constant(x_yj)\n",
    "model_yj = sm.OLS(y,x_sm_yj).fit()"
   ]
  },
  {
   "cell_type": "code",
   "execution_count": 161,
   "id": "36de960b",
   "metadata": {
    "scrolled": true
   },
   "outputs": [
    {
     "name": "stdout",
     "output_type": "stream",
     "text": [
      "                            OLS Regression Results                            \n",
      "==============================================================================\n",
      "Dep. Variable:                 profit   R-squared:                       0.926\n",
      "Model:                            OLS   Adj. R-squared:                  0.917\n",
      "Method:                 Least Squares   F-statistic:                     109.5\n",
      "Date:                Sat, 17 Dec 2022   Prob (F-statistic):           1.13e-23\n",
      "Time:                        06:24:58   Log-Likelihood:                -535.70\n",
      "No. Observations:                  50   AIC:                             1083.\n",
      "Df Residuals:                      44   BIC:                             1095.\n",
      "Df Model:                           5                                         \n",
      "Covariance Type:            nonrobust                                         \n",
      "===================================================================================\n",
      "                      coef    std err          t      P>|t|      [0.025      0.975]\n",
      "-----------------------------------------------------------------------------------\n",
      "const             1.12e+05   1640.750     68.269      0.000    1.09e+05    1.15e+05\n",
      "rd_spend          3.69e+04   2497.238     14.776      0.000    3.19e+04    4.19e+04\n",
      "administration  -1384.0415   1789.441     -0.773      0.443   -4990.423    2222.340\n",
      "marketing_spend  2535.4130   2476.194      1.024      0.311   -2455.028    7525.854\n",
      "state_Florida    -324.3976   1934.425     -0.168      0.868   -4222.975    3574.179\n",
      "state_New York    649.2810   1898.759      0.342      0.734   -3177.416    4475.978\n",
      "==============================================================================\n",
      "Omnibus:                        7.080   Durbin-Watson:                   0.989\n",
      "Prob(Omnibus):                  0.029   Jarque-Bera (JB):                6.389\n",
      "Skew:                           0.862   Prob(JB):                       0.0410\n",
      "Kurtosis:                       3.313   Cond. No.                         2.81\n",
      "==============================================================================\n",
      "\n",
      "Notes:\n",
      "[1] Standard Errors assume that the covariance matrix of the errors is correctly specified.\n"
     ]
    }
   ],
   "source": [
    "print(model_yj.summary())"
   ]
  },
  {
   "cell_type": "markdown",
   "id": "a938a5da",
   "metadata": {},
   "source": [
    "### <font color='brown'><b><I>with Quantile Transformation :"
   ]
  },
  {
   "cell_type": "code",
   "execution_count": 162,
   "id": "347f3ed5",
   "metadata": {},
   "outputs": [
    {
     "data": {
      "text/html": [
       "<div>\n",
       "<style scoped>\n",
       "    .dataframe tbody tr th:only-of-type {\n",
       "        vertical-align: middle;\n",
       "    }\n",
       "\n",
       "    .dataframe tbody tr th {\n",
       "        vertical-align: top;\n",
       "    }\n",
       "\n",
       "    .dataframe thead th {\n",
       "        text-align: right;\n",
       "    }\n",
       "</style>\n",
       "<table border=\"1\" class=\"dataframe\">\n",
       "  <thead>\n",
       "    <tr style=\"text-align: right;\">\n",
       "      <th></th>\n",
       "      <th>rd_spend</th>\n",
       "      <th>administration</th>\n",
       "      <th>marketing_spend</th>\n",
       "      <th>state_Florida</th>\n",
       "      <th>state_New York</th>\n",
       "    </tr>\n",
       "  </thead>\n",
       "  <tbody>\n",
       "    <tr>\n",
       "      <th>0</th>\n",
       "      <td>1.000000</td>\n",
       "      <td>0.693878</td>\n",
       "      <td>1.000000</td>\n",
       "      <td>0.0</td>\n",
       "      <td>1.0</td>\n",
       "    </tr>\n",
       "    <tr>\n",
       "      <th>1</th>\n",
       "      <td>0.979592</td>\n",
       "      <td>0.836735</td>\n",
       "      <td>0.979592</td>\n",
       "      <td>0.0</td>\n",
       "      <td>0.0</td>\n",
       "    </tr>\n",
       "    <tr>\n",
       "      <th>2</th>\n",
       "      <td>0.959184</td>\n",
       "      <td>0.224490</td>\n",
       "      <td>0.959184</td>\n",
       "      <td>1.0</td>\n",
       "      <td>0.0</td>\n",
       "    </tr>\n",
       "    <tr>\n",
       "      <th>3</th>\n",
       "      <td>0.938776</td>\n",
       "      <td>0.448980</td>\n",
       "      <td>0.938776</td>\n",
       "      <td>0.0</td>\n",
       "      <td>1.0</td>\n",
       "    </tr>\n",
       "    <tr>\n",
       "      <th>4</th>\n",
       "      <td>0.918367</td>\n",
       "      <td>0.122449</td>\n",
       "      <td>0.918367</td>\n",
       "      <td>1.0</td>\n",
       "      <td>0.0</td>\n",
       "    </tr>\n",
       "  </tbody>\n",
       "</table>\n",
       "</div>"
      ],
      "text/plain": [
       "   rd_spend  administration  marketing_spend  state_Florida  state_New York\n",
       "0  1.000000        0.693878         1.000000            0.0             1.0\n",
       "1  0.979592        0.836735         0.979592            0.0             0.0\n",
       "2  0.959184        0.224490         0.959184            1.0             0.0\n",
       "3  0.938776        0.448980         0.938776            0.0             1.0\n",
       "4  0.918367        0.122449         0.918367            1.0             0.0"
      ]
     },
     "execution_count": 162,
     "metadata": {},
     "output_type": "execute_result"
    }
   ],
   "source": [
    "x_q = x.copy()\n",
    "from sklearn.preprocessing import QuantileTransformer\n",
    "\n",
    "def unique_values(x):\n",
    "    return x.unique().tolist()\n",
    "\n",
    "qt = QuantileTransformer()\n",
    "    \n",
    "transformed_qt = qt.fit_transform(x_q)\n",
    "\n",
    "df_q = pd.DataFrame(transformed_qt, columns=x.columns)\n",
    "\n",
    "df_q.head()"
   ]
  },
  {
   "cell_type": "code",
   "execution_count": 163,
   "id": "2d1cc3e4",
   "metadata": {},
   "outputs": [],
   "source": [
    "df_q = df_q.join(y)\n",
    "x_q = df_q.drop(['profit'],axis=1)"
   ]
  },
  {
   "cell_type": "code",
   "execution_count": 166,
   "id": "1c146504",
   "metadata": {},
   "outputs": [],
   "source": [
    "x_sm_q = sm.add_constant(x_q)\n",
    "model_q = sm.OLS(y,x_sm_q).fit()"
   ]
  },
  {
   "cell_type": "code",
   "execution_count": 167,
   "id": "38c8a312",
   "metadata": {
    "scrolled": true
   },
   "outputs": [
    {
     "name": "stdout",
     "output_type": "stream",
     "text": [
      "                            OLS Regression Results                            \n",
      "==============================================================================\n",
      "Dep. Variable:                 profit   R-squared:                       0.934\n",
      "Model:                            OLS   Adj. R-squared:                  0.927\n",
      "Method:                 Least Squares   F-statistic:                     125.4\n",
      "Date:                Sat, 17 Dec 2022   Prob (F-statistic):           7.12e-25\n",
      "Time:                        06:34:19   Log-Likelihood:                -532.54\n",
      "No. Observations:                  50   AIC:                             1077.\n",
      "Df Residuals:                      44   BIC:                             1089.\n",
      "Df Model:                           5                                         \n",
      "Covariance Type:            nonrobust                                         \n",
      "===================================================================================\n",
      "                      coef    std err          t      P>|t|      [0.025      0.975]\n",
      "-----------------------------------------------------------------------------------\n",
      "const            4.724e+04   4485.359     10.533      0.000    3.82e+04    5.63e+04\n",
      "rd_spend         1.243e+05   7984.434     15.570      0.000    1.08e+05     1.4e+05\n",
      "administration  -3201.3772   5664.119     -0.565      0.575   -1.46e+04    8213.905\n",
      "marketing_spend  9650.7314   7923.032      1.218      0.230   -6317.091    2.56e+04\n",
      "state_Florida    -679.9145   3895.386     -0.175      0.862   -8530.550    7170.721\n",
      "state_New York   -983.7253   3763.660     -0.261      0.795   -8568.883    6601.433\n",
      "==============================================================================\n",
      "Omnibus:                        4.156   Durbin-Watson:                   0.893\n",
      "Prob(Omnibus):                  0.125   Jarque-Bera (JB):                3.087\n",
      "Skew:                          -0.559   Prob(JB):                        0.214\n",
      "Kurtosis:                       3.482   Cond. No.                         10.1\n",
      "==============================================================================\n",
      "\n",
      "Notes:\n",
      "[1] Standard Errors assume that the covariance matrix of the errors is correctly specified.\n"
     ]
    }
   ],
   "source": [
    "print(model_q.summary())"
   ]
  },
  {
   "cell_type": "markdown",
   "id": "3f771720",
   "metadata": {},
   "source": [
    "### <font color='brown'><b><I>with Log Transformation :"
   ]
  },
  {
   "cell_type": "code",
   "execution_count": 177,
   "id": "536e3063",
   "metadata": {},
   "outputs": [
    {
     "data": {
      "text/html": [
       "<div>\n",
       "<style scoped>\n",
       "    .dataframe tbody tr th:only-of-type {\n",
       "        vertical-align: middle;\n",
       "    }\n",
       "\n",
       "    .dataframe tbody tr th {\n",
       "        vertical-align: top;\n",
       "    }\n",
       "\n",
       "    .dataframe thead th {\n",
       "        text-align: right;\n",
       "    }\n",
       "</style>\n",
       "<table border=\"1\" class=\"dataframe\">\n",
       "  <thead>\n",
       "    <tr style=\"text-align: right;\">\n",
       "      <th></th>\n",
       "      <th>rd_spend</th>\n",
       "      <th>administration</th>\n",
       "      <th>marketing_spend</th>\n",
       "      <th>profit</th>\n",
       "      <th>state_Florida</th>\n",
       "      <th>state_NewYork</th>\n",
       "    </tr>\n",
       "  </thead>\n",
       "  <tbody>\n",
       "    <tr>\n",
       "      <th>0</th>\n",
       "      <td>165349.20</td>\n",
       "      <td>136897.80</td>\n",
       "      <td>471784.10</td>\n",
       "      <td>192261.83</td>\n",
       "      <td>0</td>\n",
       "      <td>1</td>\n",
       "    </tr>\n",
       "    <tr>\n",
       "      <th>1</th>\n",
       "      <td>162597.70</td>\n",
       "      <td>151377.59</td>\n",
       "      <td>443898.53</td>\n",
       "      <td>191792.06</td>\n",
       "      <td>0</td>\n",
       "      <td>0</td>\n",
       "    </tr>\n",
       "    <tr>\n",
       "      <th>2</th>\n",
       "      <td>153441.51</td>\n",
       "      <td>101145.55</td>\n",
       "      <td>407934.54</td>\n",
       "      <td>191050.39</td>\n",
       "      <td>1</td>\n",
       "      <td>0</td>\n",
       "    </tr>\n",
       "    <tr>\n",
       "      <th>3</th>\n",
       "      <td>144372.41</td>\n",
       "      <td>118671.85</td>\n",
       "      <td>383199.62</td>\n",
       "      <td>182901.99</td>\n",
       "      <td>0</td>\n",
       "      <td>1</td>\n",
       "    </tr>\n",
       "    <tr>\n",
       "      <th>4</th>\n",
       "      <td>142107.34</td>\n",
       "      <td>91391.77</td>\n",
       "      <td>366168.42</td>\n",
       "      <td>166187.94</td>\n",
       "      <td>1</td>\n",
       "      <td>0</td>\n",
       "    </tr>\n",
       "  </tbody>\n",
       "</table>\n",
       "</div>"
      ],
      "text/plain": [
       "    rd_spend  administration  marketing_spend     profit  state_Florida  \\\n",
       "0  165349.20       136897.80        471784.10  192261.83              0   \n",
       "1  162597.70       151377.59        443898.53  191792.06              0   \n",
       "2  153441.51       101145.55        407934.54  191050.39              1   \n",
       "3  144372.41       118671.85        383199.62  182901.99              0   \n",
       "4  142107.34        91391.77        366168.42  166187.94              1   \n",
       "\n",
       "   state_NewYork  \n",
       "0              1  \n",
       "1              0  \n",
       "2              0  \n",
       "3              1  \n",
       "4              0  "
      ]
     },
     "execution_count": 177,
     "metadata": {},
     "output_type": "execute_result"
    }
   ],
   "source": [
    "df_log = df_enc.copy()\n",
    "df_log = df_log.rename({'state_New York':'state_NewYork'},axis=1)\n",
    "df_log.head()"
   ]
  },
  {
   "cell_type": "code",
   "execution_count": 174,
   "id": "babff549",
   "metadata": {},
   "outputs": [],
   "source": [
    "import statsmodels.formula.api as smf "
   ]
  },
  {
   "cell_type": "code",
   "execution_count": 178,
   "id": "c2665fcc",
   "metadata": {
    "scrolled": true
   },
   "outputs": [],
   "source": [
    "model_log = smf.ols('np.log(profit)~np.log(rd_spend+administration+marketing_spend+state_Florida+state_NewYork)',data=df_log).fit()"
   ]
  },
  {
   "cell_type": "code",
   "execution_count": 179,
   "id": "14c92e64",
   "metadata": {},
   "outputs": [
    {
     "name": "stdout",
     "output_type": "stream",
     "text": [
      "                            OLS Regression Results                            \n",
      "==============================================================================\n",
      "Dep. Variable:         np.log(profit)   R-squared:                       0.641\n",
      "Model:                            OLS   Adj. R-squared:                  0.633\n",
      "Method:                 Least Squares   F-statistic:                     85.69\n",
      "Date:                Sat, 17 Dec 2022   Prob (F-statistic):           2.98e-12\n",
      "Time:                        07:15:15   Log-Likelihood:                -6.3475\n",
      "No. Observations:                  50   AIC:                             16.70\n",
      "Df Residuals:                      48   BIC:                             20.52\n",
      "Df Model:                           1                                         \n",
      "Covariance Type:            nonrobust                                         \n",
      "=======================================================================================================================================================\n",
      "                                                                                          coef    std err          t      P>|t|      [0.025      0.975]\n",
      "-------------------------------------------------------------------------------------------------------------------------------------------------------\n",
      "Intercept                                                                               2.1394      1.017      2.105      0.041       0.095       4.183\n",
      "np.log(rd_spend + administration + marketing_spend + state_Florida + state_NewYork)     0.7339      0.079      9.257      0.000       0.574       0.893\n",
      "==============================================================================\n",
      "Omnibus:                       52.308   Durbin-Watson:                   1.740\n",
      "Prob(Omnibus):                  0.000   Jarque-Bera (JB):              296.205\n",
      "Skew:                          -2.664   Prob(JB):                     4.79e-65\n",
      "Kurtosis:                      13.667   Cond. No.                         331.\n",
      "==============================================================================\n",
      "\n",
      "Notes:\n",
      "[1] Standard Errors assume that the covariance matrix of the errors is correctly specified.\n"
     ]
    }
   ],
   "source": [
    "print(model_log.summary())"
   ]
  },
  {
   "cell_type": "markdown",
   "id": "02334254",
   "metadata": {},
   "source": [
    "### <font color='brown'><b><I>with Squareroot Transformation :"
   ]
  },
  {
   "cell_type": "code",
   "execution_count": 180,
   "id": "72cf485e",
   "metadata": {},
   "outputs": [],
   "source": [
    "model_sqrt = smf.ols('np.sqrt(profit)~np.sqrt(rd_spend+administration+marketing_spend+state_Florida+state_NewYork)',data=df_log).fit()"
   ]
  },
  {
   "cell_type": "code",
   "execution_count": 181,
   "id": "71475c52",
   "metadata": {},
   "outputs": [
    {
     "name": "stdout",
     "output_type": "stream",
     "text": [
      "                            OLS Regression Results                            \n",
      "==============================================================================\n",
      "Dep. Variable:        np.sqrt(profit)   R-squared:                       0.726\n",
      "Model:                            OLS   Adj. R-squared:                  0.720\n",
      "Method:                 Least Squares   F-statistic:                     126.9\n",
      "Date:                Sat, 17 Dec 2022   Prob (F-statistic):           4.47e-15\n",
      "Time:                        07:16:15   Log-Likelihood:                -246.75\n",
      "No. Observations:                  50   AIC:                             497.5\n",
      "Df Residuals:                      48   BIC:                             501.3\n",
      "Df Model:                           1                                         \n",
      "Covariance Type:            nonrobust                                         \n",
      "========================================================================================================================================================\n",
      "                                                                                           coef    std err          t      P>|t|      [0.025      0.975]\n",
      "--------------------------------------------------------------------------------------------------------------------------------------------------------\n",
      "Intercept                                                                               76.1140     22.924      3.320      0.002      30.021     122.207\n",
      "np.sqrt(rd_spend + administration + marketing_spend + state_Florida + state_NewYork)     0.4052      0.036     11.264      0.000       0.333       0.478\n",
      "==============================================================================\n",
      "Omnibus:                       22.760   Durbin-Watson:                   1.679\n",
      "Prob(Omnibus):                  0.000   Jarque-Bera (JB):               44.180\n",
      "Skew:                          -1.312   Prob(JB):                     2.55e-10\n",
      "Kurtosis:                       6.784   Cond. No.                     3.01e+03\n",
      "==============================================================================\n",
      "\n",
      "Notes:\n",
      "[1] Standard Errors assume that the covariance matrix of the errors is correctly specified.\n",
      "[2] The condition number is large, 3.01e+03. This might indicate that there are\n",
      "strong multicollinearity or other numerical problems.\n"
     ]
    }
   ],
   "source": [
    "print(model_sqrt.summary())"
   ]
  },
  {
   "cell_type": "markdown",
   "id": "ffef6ec8",
   "metadata": {},
   "source": [
    "### <font color='brown'><b><I>with Cuberoot Transformation :"
   ]
  },
  {
   "cell_type": "code",
   "execution_count": 182,
   "id": "f9244d2e",
   "metadata": {},
   "outputs": [],
   "source": [
    "model_cbrt = smf.ols('np.cbrt(profit)~np.cbrt(rd_spend+administration+marketing_spend+state_Florida+state_NewYork)',data=df_log).fit()"
   ]
  },
  {
   "cell_type": "code",
   "execution_count": 183,
   "id": "9984f0f4",
   "metadata": {},
   "outputs": [
    {
     "name": "stdout",
     "output_type": "stream",
     "text": [
      "                            OLS Regression Results                            \n",
      "==============================================================================\n",
      "Dep. Variable:        np.cbrt(profit)   R-squared:                       0.705\n",
      "Model:                            OLS   Adj. R-squared:                  0.699\n",
      "Method:                 Least Squares   F-statistic:                     114.6\n",
      "Date:                Sat, 17 Dec 2022   Prob (F-statistic):           2.58e-14\n",
      "Time:                        07:16:52   Log-Likelihood:                -133.68\n",
      "No. Observations:                  50   AIC:                             271.4\n",
      "Df Residuals:                      48   BIC:                             275.2\n",
      "Df Model:                           1                                         \n",
      "Covariance Type:            nonrobust                                         \n",
      "========================================================================================================================================================\n",
      "                                                                                           coef    std err          t      P>|t|      [0.025      0.975]\n",
      "--------------------------------------------------------------------------------------------------------------------------------------------------------\n",
      "Intercept                                                                               11.3724      3.401      3.344      0.002       4.535      18.210\n",
      "np.cbrt(rd_spend + administration + marketing_spend + state_Florida + state_NewYork)     0.4966      0.046     10.707      0.000       0.403       0.590\n",
      "==============================================================================\n",
      "Omnibus:                       31.349   Durbin-Watson:                   1.707\n",
      "Prob(Omnibus):                  0.000   Jarque-Bera (JB):               82.543\n",
      "Skew:                          -1.696   Prob(JB):                     1.19e-18\n",
      "Kurtosis:                       8.302   Cond. No.                         493.\n",
      "==============================================================================\n",
      "\n",
      "Notes:\n",
      "[1] Standard Errors assume that the covariance matrix of the errors is correctly specified.\n"
     ]
    }
   ],
   "source": [
    "print(model_cbrt.summary())"
   ]
  },
  {
   "cell_type": "markdown",
   "id": "ce88fa88",
   "metadata": {},
   "source": [
    "## <font color='orange'><b>Summarizing the Results :"
   ]
  },
  {
   "cell_type": "code",
   "execution_count": 184,
   "id": "544b24a5",
   "metadata": {},
   "outputs": [
    {
     "data": {
      "text/html": [
       "<div>\n",
       "<style scoped>\n",
       "    .dataframe tbody tr th:only-of-type {\n",
       "        vertical-align: middle;\n",
       "    }\n",
       "\n",
       "    .dataframe tbody tr th {\n",
       "        vertical-align: top;\n",
       "    }\n",
       "\n",
       "    .dataframe thead th {\n",
       "        text-align: right;\n",
       "    }\n",
       "</style>\n",
       "<table border=\"1\" class=\"dataframe\">\n",
       "  <thead>\n",
       "    <tr style=\"text-align: right;\">\n",
       "      <th></th>\n",
       "      <th>MLR models</th>\n",
       "      <th>R-squared</th>\n",
       "      <th>Adj.R-squared</th>\n",
       "    </tr>\n",
       "  </thead>\n",
       "  <tbody>\n",
       "    <tr>\n",
       "      <th>0</th>\n",
       "      <td>with Raw data</td>\n",
       "      <td>0.950752</td>\n",
       "      <td>0.945156</td>\n",
       "    </tr>\n",
       "    <tr>\n",
       "      <th>1</th>\n",
       "      <td>with Quantile Transformation</td>\n",
       "      <td>0.934420</td>\n",
       "      <td>0.926967</td>\n",
       "    </tr>\n",
       "    <tr>\n",
       "      <th>2</th>\n",
       "      <td>with Yeo-Jhonson Transformation</td>\n",
       "      <td>0.925601</td>\n",
       "      <td>0.917146</td>\n",
       "    </tr>\n",
       "    <tr>\n",
       "      <th>3</th>\n",
       "      <td>with Box-Cox Transformation</td>\n",
       "      <td>0.923072</td>\n",
       "      <td>0.914330</td>\n",
       "    </tr>\n",
       "    <tr>\n",
       "      <th>4</th>\n",
       "      <td>with Squareroot Transformation</td>\n",
       "      <td>0.725506</td>\n",
       "      <td>0.719787</td>\n",
       "    </tr>\n",
       "    <tr>\n",
       "      <th>5</th>\n",
       "      <td>with Cuberoot Transformation</td>\n",
       "      <td>0.704872</td>\n",
       "      <td>0.698723</td>\n",
       "    </tr>\n",
       "    <tr>\n",
       "      <th>6</th>\n",
       "      <td>with Log Transformation</td>\n",
       "      <td>0.640970</td>\n",
       "      <td>0.633490</td>\n",
       "    </tr>\n",
       "  </tbody>\n",
       "</table>\n",
       "</div>"
      ],
      "text/plain": [
       "                        MLR models  R-squared  Adj.R-squared\n",
       "0                    with Raw data   0.950752       0.945156\n",
       "1     with Quantile Transformation   0.934420       0.926967\n",
       "2  with Yeo-Jhonson Transformation   0.925601       0.917146\n",
       "3      with Box-Cox Transformation   0.923072       0.914330\n",
       "4   with Squareroot Transformation   0.725506       0.719787\n",
       "5     with Cuberoot Transformation   0.704872       0.698723\n",
       "6          with Log Transformation   0.640970       0.633490"
      ]
     },
     "execution_count": 184,
     "metadata": {},
     "output_type": "execute_result"
    }
   ],
   "source": [
    "data = {'MLR models':['with Box-Cox Transformation','with Yeo-Jhonson Transformation',\n",
    "                      'with Quantile Transformation','with Log Transformation',\n",
    "                      'with Squareroot Transformation','with Cuberoot Transformation','with Raw data'],\n",
    "       'R-squared':[model_bc.rsquared,model_yj.rsquared,model_q.rsquared,model_log.rsquared,\n",
    "                    model_sqrt.rsquared,model_cbrt.rsquared,model_raw.rsquared],\n",
    "       'Adj.R-squared':[model_bc.rsquared_adj,model_yj.rsquared_adj,model_q.rsquared_adj,\n",
    "                       model_log.rsquared_adj,model_sqrt.rsquared_adj,model_cbrt.rsquared_adj,\n",
    "                       model_raw.rsquared_adj]}\n",
    "Models = pd.DataFrame(data)\n",
    "Models.sort_values('Adj.R-squared',ascending=False).reset_index(drop=True)"
   ]
  },
  {
   "cell_type": "markdown",
   "id": "b574fc2c",
   "metadata": {},
   "source": [
    "<font color='peach'><b>Out of all the above models the one with raw data has highest R-squared and Adjusted R-squared values."
   ]
  },
  {
   "cell_type": "markdown",
   "id": "ca44102a",
   "metadata": {},
   "source": [
    "## <font color='orange'><b>Prediction with the Final Model :"
   ]
  },
  {
   "cell_type": "code",
   "execution_count": 119,
   "id": "385f82b1",
   "metadata": {},
   "outputs": [
    {
     "data": {
      "text/html": [
       "<div>\n",
       "<style scoped>\n",
       "    .dataframe tbody tr th:only-of-type {\n",
       "        vertical-align: middle;\n",
       "    }\n",
       "\n",
       "    .dataframe tbody tr th {\n",
       "        vertical-align: top;\n",
       "    }\n",
       "\n",
       "    .dataframe thead th {\n",
       "        text-align: right;\n",
       "    }\n",
       "</style>\n",
       "<table border=\"1\" class=\"dataframe\">\n",
       "  <thead>\n",
       "    <tr style=\"text-align: right;\">\n",
       "      <th></th>\n",
       "      <th>const</th>\n",
       "      <th>rd_spend</th>\n",
       "      <th>administration</th>\n",
       "      <th>marketing_spend</th>\n",
       "      <th>profit</th>\n",
       "      <th>predicted_profit</th>\n",
       "      <th>error/residuals</th>\n",
       "    </tr>\n",
       "  </thead>\n",
       "  <tbody>\n",
       "    <tr>\n",
       "      <th>0</th>\n",
       "      <td>1.0</td>\n",
       "      <td>165349.20</td>\n",
       "      <td>136897.80</td>\n",
       "      <td>471784.10</td>\n",
       "      <td>192261.83</td>\n",
       "      <td>192521.25</td>\n",
       "      <td>259.42</td>\n",
       "    </tr>\n",
       "    <tr>\n",
       "      <th>1</th>\n",
       "      <td>1.0</td>\n",
       "      <td>162597.70</td>\n",
       "      <td>151377.59</td>\n",
       "      <td>443898.53</td>\n",
       "      <td>191792.06</td>\n",
       "      <td>189156.77</td>\n",
       "      <td>-2635.29</td>\n",
       "    </tr>\n",
       "    <tr>\n",
       "      <th>2</th>\n",
       "      <td>1.0</td>\n",
       "      <td>153441.51</td>\n",
       "      <td>101145.55</td>\n",
       "      <td>407934.54</td>\n",
       "      <td>191050.39</td>\n",
       "      <td>182147.28</td>\n",
       "      <td>-8903.11</td>\n",
       "    </tr>\n",
       "    <tr>\n",
       "      <th>3</th>\n",
       "      <td>1.0</td>\n",
       "      <td>144372.41</td>\n",
       "      <td>118671.85</td>\n",
       "      <td>383199.62</td>\n",
       "      <td>182901.99</td>\n",
       "      <td>173696.70</td>\n",
       "      <td>-9205.29</td>\n",
       "    </tr>\n",
       "    <tr>\n",
       "      <th>4</th>\n",
       "      <td>1.0</td>\n",
       "      <td>142107.34</td>\n",
       "      <td>91391.77</td>\n",
       "      <td>366168.42</td>\n",
       "      <td>166187.94</td>\n",
       "      <td>172139.51</td>\n",
       "      <td>5951.57</td>\n",
       "    </tr>\n",
       "  </tbody>\n",
       "</table>\n",
       "</div>"
      ],
      "text/plain": [
       "   const   rd_spend  administration  marketing_spend     profit  \\\n",
       "0    1.0  165349.20       136897.80        471784.10  192261.83   \n",
       "1    1.0  162597.70       151377.59        443898.53  191792.06   \n",
       "2    1.0  153441.51       101145.55        407934.54  191050.39   \n",
       "3    1.0  144372.41       118671.85        383199.62  182901.99   \n",
       "4    1.0  142107.34        91391.77        366168.42  166187.94   \n",
       "\n",
       "   predicted_profit  error/residuals  \n",
       "0         192521.25           259.42  \n",
       "1         189156.77         -2635.29  \n",
       "2         182147.28         -8903.11  \n",
       "3         173696.70         -9205.29  \n",
       "4         172139.51          5951.57  "
      ]
     },
     "execution_count": 119,
     "metadata": {},
     "output_type": "execute_result"
    }
   ],
   "source": [
    "import statsmodels.api as sm\n",
    "\n",
    "df_pred = df1.copy()\n",
    "df_pred = sm.add_constant(x)\n",
    "df_pred['predicted_profit'] = model_raw.predict(x).round(2)\n",
    "df_pred = df_pred.join(y)\n",
    "df_pred = df_pred.iloc[:,[0,1,2,3,5,4]]\n",
    "df_pred['error/residuals'] = df_pred['predicted_profit']-df_pred['profit']\n",
    "df_pred.head()"
   ]
  },
  {
   "cell_type": "markdown",
   "id": "40dbc0c8",
   "metadata": {},
   "source": [
    "## <font color='orange'><b>Residual Analysis :"
   ]
  },
  {
   "cell_type": "code",
   "execution_count": 120,
   "id": "6aef31da",
   "metadata": {},
   "outputs": [
    {
     "data": {
      "image/png": "[encoded data removed]",
      "text/plain": [
       "<Figure size 432x288 with 1 Axes>"
      ]
     },
     "metadata": {},
     "output_type": "display_data"
    }
   ],
   "source": [
    "from scipy import stats\n",
    "stats.probplot(df_pred['error/residuals'],dist='norm',plot=plt);"
   ]
  },
  {
   "cell_type": "code",
   "execution_count": 121,
   "id": "3cb92976",
   "metadata": {},
   "outputs": [
    {
     "data": {
      "image/png": "[encoded data removed]",
      "text/plain": [
       "<Figure size 432x288 with 1 Axes>"
      ]
     },
     "metadata": {},
     "output_type": "display_data"
    }
   ],
   "source": [
    "sns.distplot(df_pred['error/residuals'],kde=True,color='maroon')\n",
    "plt.title('Displot of Residuals');"
   ]
  },
  {
   "cell_type": "markdown",
   "id": "937b58c6",
   "metadata": {},
   "source": [
    "<font color='maroon'><b>The error component has normal distribution."
   ]
  },
  {
   "cell_type": "markdown",
   "id": "dcd69c5d",
   "metadata": {},
   "source": [
    "## <font color='orange'><b>Check for Homoscedasticity :"
   ]
  },
  {
   "cell_type": "code",
   "execution_count": 122,
   "id": "598796b2",
   "metadata": {},
   "outputs": [
    {
     "data": {
      "image/png": "[encoded data removed]",
      "text/plain": [
       "<Figure size 432x288 with 1 Axes>"
      ]
     },
     "metadata": {},
     "output_type": "display_data"
    },
    {
     "data": {
      "image/png": "[encoded data removed]",
      "text/plain": [
       "<Figure size 432x288 with 1 Axes>"
      ]
     },
     "metadata": {},
     "output_type": "display_data"
    },
    {
     "data": {
      "image/png": "[encoded data removed]",
      "text/plain": [
       "<Figure size 432x288 with 1 Axes>"
      ]
     },
     "metadata": {},
     "output_type": "display_data"
    }
   ],
   "source": [
    "plt.title('R&D Spend vs error/residuals')\n",
    "sns.scatterplot(data=df_pred,x='rd_spend',y='error/residuals')\n",
    "plt.axhline(y=0,color='black')\n",
    "plt.show()\n",
    "plt.title('Administration vs error/residuals')\n",
    "sns.scatterplot(data=df_pred,x='administration',y='error/residuals')\n",
    "plt.axhline(y=0,color='black')\n",
    "plt.show()\n",
    "plt.title('Marketing Spend vs error/residuals')\n",
    "sns.scatterplot(data=df_pred,x='marketing_spend',y='error/residuals')\n",
    "plt.axhline(y=0,color='black')\n",
    "plt.show()"
   ]
  },
  {
   "cell_type": "markdown",
   "id": "b093aa25",
   "metadata": {},
   "source": [
    "<font color='maroon'><b>There is no definite pattern seen in the distribution of error values. So the model satisfies the condition of homoscedasticity."
   ]
  },
  {
   "cell_type": "code",
   "execution_count": null,
   "id": "a64c14fd",
   "metadata": {},
   "outputs": [],
   "source": []
  }
 ],
 "metadata": {
  "kernelspec": {
   "display_name": "Python 3 (ipykernel)",
   "language": "python",
   "name": "python3"
  },
  "language_info": {
   "codemirror_mode": {
    "name": "ipython",
    "version": 3
   },
   "file_extension": ".py",
   "mimetype": "text/x-python",
   "name": "python",
   "nbconvert_exporter": "python",
   "pygments_lexer": "ipython3",
   "version": "3.9.12"
  }
 },
 "nbformat": 4,
 "nbformat_minor": 5
}
